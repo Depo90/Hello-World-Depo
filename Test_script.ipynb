{
  "nbformat": 4,
  "nbformat_minor": 0,
  "metadata": {
    "colab": {
      "name": "Test_script.ipynb",
      "provenance": [],
      "include_colab_link": true
    },
    "kernelspec": {
      "name": "ir",
      "display_name": "R"
    }
  },
  "cells": [
    {
      "cell_type": "markdown",
      "metadata": {
        "id": "view-in-github",
        "colab_type": "text"
      },
      "source": [
        "<a href=\"https://colab.research.google.com/github/Depo90/Hello-World-Depo/blob/master/Test_script.ipynb\" target=\"_parent\"><img src=\"https://colab.research.google.com/assets/colab-badge.svg\" alt=\"Open In Colab\"/></a>"
      ]
    },
    {
      "cell_type": "code",
      "metadata": {
        "id": "xp9ZZot-gw_6",
        "colab_type": "code",
        "outputId": "48204417-35fe-4dd4-c68a-8d8b636ac385",
        "colab": {
          "base_uri": "https://localhost:8080/",
          "height": 258
        }
      },
      "source": [
        "x = 4\n",
        "library(tidyverse)\n",
        "x\n",
        "for(i in 1:50) cat(\"dadaad\", i)"
      ],
      "execution_count": 2,
      "outputs": [
        {
          "output_type": "stream",
          "text": [
            "── \u001b[1mAttaching packages\u001b[22m ─────────────────────────────────────── tidyverse 1.3.0 ──\n",
            "\n",
            "\u001b[32m✔\u001b[39m \u001b[34mggplot2\u001b[39m 3.2.1     \u001b[32m✔\u001b[39m \u001b[34mpurrr  \u001b[39m 0.3.3\n",
            "\u001b[32m✔\u001b[39m \u001b[34mtibble \u001b[39m 2.1.3     \u001b[32m✔\u001b[39m \u001b[34mdplyr  \u001b[39m 0.8.3\n",
            "\u001b[32m✔\u001b[39m \u001b[34mtidyr  \u001b[39m 1.0.0     \u001b[32m✔\u001b[39m \u001b[34mstringr\u001b[39m 1.4.0\n",
            "\u001b[32m✔\u001b[39m \u001b[34mreadr  \u001b[39m 1.3.1     \u001b[32m✔\u001b[39m \u001b[34mforcats\u001b[39m 0.4.0\n",
            "\n",
            "── \u001b[1mConflicts\u001b[22m ────────────────────────────────────────── tidyverse_conflicts() ──\n",
            "\u001b[31m✖\u001b[39m \u001b[34mdplyr\u001b[39m::\u001b[32mfilter()\u001b[39m masks \u001b[34mstats\u001b[39m::filter()\n",
            "\u001b[31m✖\u001b[39m \u001b[34mdplyr\u001b[39m::\u001b[32mlag()\u001b[39m    masks \u001b[34mstats\u001b[39m::lag()\n",
            "\n"
          ],
          "name": "stderr"
        },
        {
          "output_type": "display_data",
          "data": {
            "text/plain": [
              "[1] 4"
            ],
            "text/latex": "4",
            "text/markdown": "4",
            "text/html": [
              "4"
            ]
          },
          "metadata": {
            "tags": []
          }
        },
        {
          "output_type": "stream",
          "text": [
            "dadaad 1dadaad 2dadaad 3dadaad 4dadaad 5dadaad 6dadaad 7dadaad 8dadaad 9dadaad 10dadaad 11dadaad 12dadaad 13dadaad 14dadaad 15dadaad 16dadaad 17dadaad 18dadaad 19dadaad 20dadaad 21dadaad 22dadaad 23dadaad 24dadaad 25dadaad 26dadaad 27dadaad 28dadaad 29dadaad 30dadaad 31dadaad 32dadaad 33dadaad 34dadaad 35dadaad 36dadaad 37dadaad 38dadaad 39dadaad 40dadaad 41dadaad 42dadaad 43dadaad 44dadaad 45dadaad 46dadaad 47dadaad 48dadaad 49dadaad 50"
          ],
          "name": "stdout"
        }
      ]
    },
    {
      "cell_type": "code",
      "metadata": {
        "id": "rC1nFiygnH9i",
        "colab_type": "code",
        "outputId": "50bbab45-76ba-4390-f1d0-e85c4dbe020a",
        "colab": {
          "base_uri": "https://localhost:8080/",
          "height": 78
        }
      },
      "source": [
        "iris %>% group_by(Species) %>% tally() %>% filter(n != 50)"
      ],
      "execution_count": 3,
      "outputs": [
        {
          "output_type": "display_data",
          "data": {
            "text/plain": [
              "     Species n"
            ],
            "text/latex": "A tibble: 0 × 2\n\\begin{tabular}{r|ll}\n Species & n\\\\\n <fct> & <int>\\\\\n\\hline\n\\end{tabular}\n",
            "text/markdown": "\nA tibble: 0 × 2\n\n| Species &lt;fct&gt; | n &lt;int&gt; |\n|---|---|\n\n",
            "text/html": [
              "<table>\n",
              "<caption>A tibble: 0 × 2</caption>\n",
              "<thead>\n",
              "\t<tr><th scope=col>Species</th><th scope=col>n</th></tr>\n",
              "\t<tr><th scope=col>&lt;fct&gt;</th><th scope=col>&lt;int&gt;</th></tr>\n",
              "</thead>\n",
              "<tbody>\n",
              "</tbody>\n",
              "</table>\n"
            ]
          },
          "metadata": {
            "tags": []
          }
        }
      ]
    }
  ]
}